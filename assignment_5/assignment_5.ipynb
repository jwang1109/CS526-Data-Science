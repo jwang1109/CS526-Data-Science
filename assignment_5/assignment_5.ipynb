{
 "cells": [
  {
   "cell_type": "code",
   "execution_count": 1,
   "id": "ddbe262a-fd7a-4476-8ccf-772233b0ff27",
   "metadata": {
    "tags": []
   },
   "outputs": [],
   "source": [
    "import pandas as pd\n",
    "import numpy as np\n",
    "from sklearn.cluster import KMeans\n",
    "import matplotlib.pyplot as plt"
   ]
  },
  {
   "cell_type": "code",
   "execution_count": 2,
   "id": "b00918bc-334a-4c63-889a-d9bbec897f76",
   "metadata": {
    "tags": []
   },
   "outputs": [],
   "source": [
    "df = pd.read_csv('training.csv')"
   ]
  },
  {
   "cell_type": "code",
   "execution_count": 3,
   "id": "862e02d0-9311-4766-8506-86ed5855208a",
   "metadata": {
    "tags": []
   },
   "outputs": [
    {
     "data": {
      "text/plain": [
       "Index(['class', 'GLCM_pan', 'Mean_Green', 'Mean_Red', 'Mean_NIR', 'SD_pan'], dtype='object')"
      ]
     },
     "execution_count": 3,
     "metadata": {},
     "output_type": "execute_result"
    }
   ],
   "source": [
    "df.columns"
   ]
  },
  {
   "cell_type": "code",
   "execution_count": 4,
   "id": "9a1e4446-cdfe-44cb-98e6-b71e797a23fc",
   "metadata": {
    "tags": []
   },
   "outputs": [],
   "source": [
    "X = df.copy()[['GLCM_pan', 'Mean_Green', 'Mean_Red', 'Mean_NIR', 'SD_pan']]"
   ]
  },
  {
   "cell_type": "code",
   "execution_count": 5,
   "id": "e4cb779b-c5fd-4ce2-b907-f9daad88bbe3",
   "metadata": {
    "tags": []
   },
   "outputs": [],
   "source": [
    "test_df = pd.read_csv('testing.csv')"
   ]
  },
  {
   "cell_type": "code",
   "execution_count": 6,
   "id": "dca22e86-3849-4869-aea1-87cd1dc8cd14",
   "metadata": {
    "tags": []
   },
   "outputs": [],
   "source": [
    "test_X = test_df.copy()[['GLCM_pan', 'Mean_Green', 'Mean_Red', 'Mean_NIR', 'SD_pan']]"
   ]
  },
  {
   "cell_type": "markdown",
   "id": "27f90485-286b-4f64-adfb-4f428131d8dd",
   "metadata": {},
   "source": [
    "# Q1"
   ]
  },
  {
   "cell_type": "code",
   "execution_count": null,
   "id": "ed548f4d-4d99-45f0-9796-2284139543fb",
   "metadata": {
    "tags": []
   },
   "outputs": [],
   "source": [
    "k_values = [2,5,10,20]\n",
    "max_iter = 100\n",
    "\n",
    "# Store SSE for each k and each iteration\n",
    "sse_values = {k: [] for k in k_values}\n",
    "\n",
    "# Apply k-means clustering for different values of k and calculate SSE\n",
    "for k in k_values:\n",
    "    for iteration in range(1, max_iter + 1):\n",
    "        kmeans = KMeans(n_clusters=k, init='random', n_init=1, max_iter=iteration, random_state=42)\n",
    "        kmeans.fit(X)\n",
    "        sse_values[k].append(kmeans.inertia_)\n",
    "\n",
    "# Plotting the results\n",
    "\n",
    "for k in k_values:\n",
    "    plt.plot(range(1, max_iter + 1), sse_values[k], label=f'k = {k}')\n",
    "    \n",
    "plt.title('SSE for Different Values of k')\n",
    "plt.xlabel('Number of Iterations')\n",
    "plt.ylabel('SSE')\n",
    "plt.legend()\n",
    "plt.show()\n"
   ]
  },
  {
   "cell_type": "markdown",
   "id": "2778aada-2d50-4075-9b9c-77d4229615b3",
   "metadata": {},
   "source": [
    "# Q2"
   ]
  },
  {
   "cell_type": "markdown",
   "id": "bca74520-95f7-42e5-8a3a-7933cad93ad7",
   "metadata": {},
   "source": [
    "The SSE initially start falling significantly, as the number of iterations increases. The reason is that the positions of centroids are randomly chosen and the first few iterations make important adjustments to these positions. As the number of iterations continuous to increase, the SSE starts stabilizing because the positions of the centroids converge to a stable position.\n",
    "\n",
    "As the value of k from K-means increases, the SSE decreases. That is because a larger K means the algorithm is able to capture more specific clusters of the data. As more specific centroids are used, the distance between data points and the positions of centroids will decrease. This may lead to overfitting."
   ]
  },
  {
   "cell_type": "markdown",
   "id": "288f5c19-5178-46c3-bfda-3e77ac2acc8a",
   "metadata": {},
   "source": [
    "# Q3"
   ]
  },
  {
   "cell_type": "code",
   "execution_count": null,
   "id": "ec463cff-e15c-4f93-956f-f1e971aa0a51",
   "metadata": {
    "tags": []
   },
   "outputs": [],
   "source": [
    "from sklearn.metrics import pairwise_distances_argmin_min\n",
    "# Dictionary to store SSD for each k\n",
    "ssd_values = {}\n",
    "purity_values = []\n",
    "\n",
    "# Compute SSD for test data on models trained with different k values\n",
    "for k in k_values:\n",
    "    kmeans = KMeans(n_clusters=k, init='random', random_state=42)\n",
    "    kmeans.fit(X)  # Training on the training data\n",
    "\n",
    "    # Assign each test data point to the nearest cluster center and compute SSD\n",
    "    _, distances = pairwise_distances_argmin_min(test_X, kmeans.cluster_centers_)\n",
    "    ssd_values[k] = np.sum(distances**2)\n",
    "    \n",
    "    test_labels = kmeans.predict(test_X)\n",
    "    \n",
    "    # Calculate purity\n",
    "    purity = 0\n",
    "    for cluster in range(k):\n",
    "        idx = (test_labels == cluster)\n",
    "        if indices.sum() > 0:\n",
    "            most_common = test_df[idx]['class'].value_counts().idxmax() # Find the most common value that can represent that cluster\n",
    "            purity += (test_df[idx]['class'] == most_common).sum()\n",
    "    purity /= len(test_df)\n",
    "    purity_values.append(purity)\n",
    "    \n",
    "    \n",
    "# Plotting SSD vs k\n",
    "plt.plot(list(ssd_values.keys()), list(ssd_values.values()), marker='o')\n",
    "plt.title('Sum of Squared Distances (SSD)')\n",
    "plt.xlabel('K')\n",
    "plt.ylabel('Sum of Squared Distances (SSD)')\n",
    "plt.show()\n",
    "\n",
    "\n",
    "# Plotting the Purity values\n",
    "plt.plot(k_values, purity_values, marker='o', color='green')\n",
    "plt.title('Purity')\n",
    "plt.xlabel('K')\n",
    "plt.ylabel('Purity')\n",
    "plt.xticks(k_values)\n",
    "plt.show()"
   ]
  },
  {
   "cell_type": "markdown",
   "id": "81975030-dd10-443a-b5ab-4512acd2196f",
   "metadata": {},
   "source": [
    "# Q4"
   ]
  },
  {
   "cell_type": "markdown",
   "id": "756481a2-35dc-4293-8eae-e2c6e632af28",
   "metadata": {},
   "source": [
    "Best value for K: I believe the best value for k is 10 because there is an obvious improvement in both purity and SSD when K increases from 5 to 10. This suggests that the model is underfitting with a small value of K, like 2 or 5. From 10 to 20, the improvement in purity and SSD becomes smaller, which could lead to overfitting problems.\n",
    "\n",
    "Obervation: As K increases, the SSD generally decreases and the purity also increases. However, a further increase of K might cause overfitting."
   ]
  }
 ],
 "metadata": {
  "kernelspec": {
   "display_name": "Python 3 (ipykernel)",
   "language": "python",
   "name": "python3"
  },
  "language_info": {
   "codemirror_mode": {
    "name": "ipython",
    "version": 3
   },
   "file_extension": ".py",
   "mimetype": "text/x-python",
   "name": "python",
   "nbconvert_exporter": "python",
   "pygments_lexer": "ipython3",
   "version": "3.11.1"
  }
 },
 "nbformat": 4,
 "nbformat_minor": 5
}
