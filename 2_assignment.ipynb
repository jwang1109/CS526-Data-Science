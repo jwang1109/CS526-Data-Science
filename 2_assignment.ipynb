{
 "cells": [
  {
   "cell_type": "code",
   "execution_count": 1,
   "id": "3bcc0563-d462-4a9d-8c6d-93f2194bf8be",
   "metadata": {
    "tags": []
   },
   "outputs": [],
   "source": [
    "import pandas as pd\n",
    "import numpy as np\n",
    "import random\n",
    "import matplotlib.pyplot as plt\n",
    "import seaborn as sns"
   ]
  },
  {
   "cell_type": "markdown",
   "id": "c83fc3db-83e2-44ef-920c-c44334c16c6b",
   "metadata": {},
   "source": [
    "# Dataset Description\n",
    "\n",
    "Both hour.csv and day.csv have the following fields, except hr which is not available in day.csv\n",
    "\n",
    "- instant: record index\n",
    "- dteday : date\n",
    "- season : season (1:winter, 2:spring, 3:summer, 4:fall)\n",
    "- yr : year (0: 2011, 1:2012)\n",
    "- mnth : month ( 1 to 12)\n",
    "- hr : hour (0 to 23)\n",
    "- holiday : weather day is holiday or not (extracted from http://dchr.dc.gov/page/holiday-schedule)\n",
    "- weekday : day of the week\n",
    "- workingday : if day is neither weekend nor holiday is 1, otherwise is 0.\n",
    "+ weathersit : \n",
    "- 1: Clear, Few clouds, Partly cloudy, Partly cloudy\n",
    "- 2: Mist + Cloudy, Mist + Broken clouds, Mist + Few clouds, Mist\n",
    "- 3: Light Snow, Light Rain + Thunderstorm + Scattered clouds, Light Rain + Scattered clouds\n",
    "- 4: Heavy Rain + Ice Pallets + Thunderstorm + Mist, Snow + Fog\n",
    "- temp : Normalized temperature in Celsius. The values are derived via (t-t_min)/(t_max-t_min), t_min=-8, t_max=+39 (only in hourly scale)\n",
    "- atemp: Normalized feeling temperature in Celsius. The values are derived via (t-t_min)/(t_max-t_min), t_min=-16, t_max=+50 (only in hourly scale)\n",
    "- hum: Normalized humidity. The values are divided to 100 (max)\n",
    "- windspeed: Normalized wind speed. The values are divided to 67 (max)\n",
    "- casual: count of casual users\n",
    "- registered: count of registered users\n",
    "- cnt: count of total rental bikes including both casual and registered"
   ]
  },
  {
   "cell_type": "code",
   "execution_count": 2,
   "id": "61e3aaf3-0f3c-4288-be7b-9db83bbc36e4",
   "metadata": {
    "tags": []
   },
   "outputs": [
    {
     "data": {
      "text/html": [
       "<div>\n",
       "<style scoped>\n",
       "    .dataframe tbody tr th:only-of-type {\n",
       "        vertical-align: middle;\n",
       "    }\n",
       "\n",
       "    .dataframe tbody tr th {\n",
       "        vertical-align: top;\n",
       "    }\n",
       "\n",
       "    .dataframe thead th {\n",
       "        text-align: right;\n",
       "    }\n",
       "</style>\n",
       "<table border=\"1\" class=\"dataframe\">\n",
       "  <thead>\n",
       "    <tr style=\"text-align: right;\">\n",
       "      <th></th>\n",
       "      <th>instant</th>\n",
       "      <th>dteday</th>\n",
       "      <th>season</th>\n",
       "      <th>yr</th>\n",
       "      <th>mnth</th>\n",
       "      <th>holiday</th>\n",
       "      <th>weekday</th>\n",
       "      <th>workingday</th>\n",
       "      <th>weathersit</th>\n",
       "      <th>temp</th>\n",
       "      <th>atemp</th>\n",
       "      <th>hum</th>\n",
       "      <th>windspeed</th>\n",
       "      <th>casual</th>\n",
       "      <th>registered</th>\n",
       "      <th>cnt</th>\n",
       "    </tr>\n",
       "  </thead>\n",
       "  <tbody>\n",
       "    <tr>\n",
       "      <th>0</th>\n",
       "      <td>1</td>\n",
       "      <td>2011-01-01</td>\n",
       "      <td>1</td>\n",
       "      <td>0</td>\n",
       "      <td>1</td>\n",
       "      <td>0</td>\n",
       "      <td>6</td>\n",
       "      <td>0</td>\n",
       "      <td>2</td>\n",
       "      <td>0.344167</td>\n",
       "      <td>0.363625</td>\n",
       "      <td>0.805833</td>\n",
       "      <td>0.160446</td>\n",
       "      <td>331</td>\n",
       "      <td>654</td>\n",
       "      <td>985</td>\n",
       "    </tr>\n",
       "    <tr>\n",
       "      <th>1</th>\n",
       "      <td>2</td>\n",
       "      <td>2011-01-02</td>\n",
       "      <td>1</td>\n",
       "      <td>0</td>\n",
       "      <td>1</td>\n",
       "      <td>0</td>\n",
       "      <td>0</td>\n",
       "      <td>0</td>\n",
       "      <td>2</td>\n",
       "      <td>0.363478</td>\n",
       "      <td>0.353739</td>\n",
       "      <td>0.696087</td>\n",
       "      <td>0.248539</td>\n",
       "      <td>131</td>\n",
       "      <td>670</td>\n",
       "      <td>801</td>\n",
       "    </tr>\n",
       "    <tr>\n",
       "      <th>2</th>\n",
       "      <td>3</td>\n",
       "      <td>2011-01-03</td>\n",
       "      <td>1</td>\n",
       "      <td>0</td>\n",
       "      <td>1</td>\n",
       "      <td>0</td>\n",
       "      <td>1</td>\n",
       "      <td>1</td>\n",
       "      <td>1</td>\n",
       "      <td>0.196364</td>\n",
       "      <td>0.189405</td>\n",
       "      <td>0.437273</td>\n",
       "      <td>0.248309</td>\n",
       "      <td>120</td>\n",
       "      <td>1229</td>\n",
       "      <td>1349</td>\n",
       "    </tr>\n",
       "    <tr>\n",
       "      <th>3</th>\n",
       "      <td>4</td>\n",
       "      <td>2011-01-04</td>\n",
       "      <td>1</td>\n",
       "      <td>0</td>\n",
       "      <td>1</td>\n",
       "      <td>0</td>\n",
       "      <td>2</td>\n",
       "      <td>1</td>\n",
       "      <td>1</td>\n",
       "      <td>0.200000</td>\n",
       "      <td>0.212122</td>\n",
       "      <td>0.590435</td>\n",
       "      <td>0.160296</td>\n",
       "      <td>108</td>\n",
       "      <td>1454</td>\n",
       "      <td>1562</td>\n",
       "    </tr>\n",
       "    <tr>\n",
       "      <th>4</th>\n",
       "      <td>5</td>\n",
       "      <td>2011-01-05</td>\n",
       "      <td>1</td>\n",
       "      <td>0</td>\n",
       "      <td>1</td>\n",
       "      <td>0</td>\n",
       "      <td>3</td>\n",
       "      <td>1</td>\n",
       "      <td>1</td>\n",
       "      <td>0.226957</td>\n",
       "      <td>0.229270</td>\n",
       "      <td>0.436957</td>\n",
       "      <td>0.186900</td>\n",
       "      <td>82</td>\n",
       "      <td>1518</td>\n",
       "      <td>1600</td>\n",
       "    </tr>\n",
       "  </tbody>\n",
       "</table>\n",
       "</div>"
      ],
      "text/plain": [
       "   instant      dteday  season  yr  mnth  holiday  weekday  workingday  \\\n",
       "0        1  2011-01-01       1   0     1        0        6           0   \n",
       "1        2  2011-01-02       1   0     1        0        0           0   \n",
       "2        3  2011-01-03       1   0     1        0        1           1   \n",
       "3        4  2011-01-04       1   0     1        0        2           1   \n",
       "4        5  2011-01-05       1   0     1        0        3           1   \n",
       "\n",
       "   weathersit      temp     atemp       hum  windspeed  casual  registered  \\\n",
       "0           2  0.344167  0.363625  0.805833   0.160446     331         654   \n",
       "1           2  0.363478  0.353739  0.696087   0.248539     131         670   \n",
       "2           1  0.196364  0.189405  0.437273   0.248309     120        1229   \n",
       "3           1  0.200000  0.212122  0.590435   0.160296     108        1454   \n",
       "4           1  0.226957  0.229270  0.436957   0.186900      82        1518   \n",
       "\n",
       "    cnt  \n",
       "0   985  \n",
       "1   801  \n",
       "2  1349  \n",
       "3  1562  \n",
       "4  1600  "
      ]
     },
     "execution_count": 2,
     "metadata": {},
     "output_type": "execute_result"
    }
   ],
   "source": [
    "df = pd.read_csv(\"Bike-Sharing-Dataset/day.csv\")\n",
    "df.head()"
   ]
  },
  {
   "cell_type": "markdown",
   "id": "23565bd8-cbef-47e8-9f8e-cd5148bec171",
   "metadata": {},
   "source": [
    "# Q1.1"
   ]
  },
  {
   "cell_type": "code",
   "execution_count": 3,
   "id": "16b28a0f-373e-4905-af1d-5bbefeaf09d7",
   "metadata": {
    "tags": []
   },
   "outputs": [
    {
     "data": {
      "image/png": "[encoded data removed]",
      "text/plain": [
       "<Figure size 640x480 with 1 Axes>"
      ]
     },
     "metadata": {},
     "output_type": "display_data"
    }
   ],
   "source": [
    "# marginal distribution\n",
    "sns.histplot(df['cnt'])\n",
    "plt.title('Marginal Distribution of rentals')\n",
    "plt.show()"
   ]
  },
  {
   "cell_type": "code",
   "execution_count": 4,
   "id": "aed50aa3-ba14-4aa8-89cf-825b2aff4fe8",
   "metadata": {
    "tags": []
   },
   "outputs": [],
   "source": [
    "unique_weathers = df['weathersit'].unique()"
   ]
  },
  {
   "cell_type": "code",
   "execution_count": 5,
   "id": "f5b34ac3-f9e1-48e3-909c-b5834b701c55",
   "metadata": {
    "tags": []
   },
   "outputs": [
    {
     "data": {
      "text/plain": [
       "array([2, 1, 3])"
      ]
     },
     "execution_count": 5,
     "metadata": {},
     "output_type": "execute_result"
    }
   ],
   "source": [
    "unique_weathers"
   ]
  },
  {
   "cell_type": "code",
   "execution_count": 6,
   "id": "b837726b-acd1-4ade-8f9b-55fd054901ef",
   "metadata": {
    "tags": []
   },
   "outputs": [
    {
     "data": {
      "image/png": "[encoded data removed]",
      "text/plain": [
       "<Figure size 640x480 with 1 Axes>"
      ]
     },
     "metadata": {},
     "output_type": "display_data"
    }
   ],
   "source": [
    "# Conditional Distribution\n",
    "unique_weathers = df['weathersit'].unique()\n",
    "for weather in unique_weathers:\n",
    "    subset = df[df['weathersit'] == weather]\n",
    "    sns.histplot(subset['cnt'], label=weather)\n",
    "\n",
    "plt.title('Conditional distribution of rentals given weather situation')\n",
    "plt.legend()\n",
    "plt.show()"
   ]
  },
  {
   "cell_type": "markdown",
   "id": "e0bad8a5-9856-4ecc-a5da-90f0f763b492",
   "metadata": {},
   "source": [
    "# Q1.2"
   ]
  },
  {
   "cell_type": "code",
   "execution_count": 7,
   "id": "25161f8a-264a-4167-a417-281b4bd6748e",
   "metadata": {
    "tags": []
   },
   "outputs": [
    {
     "name": "stdout",
     "output_type": "stream",
     "text": [
      "Coefficient: [-1057.28701717]\n"
     ]
    }
   ],
   "source": [
    "from sklearn.linear_model import LinearRegression\n",
    "\n",
    "y = df[\"cnt\"]\n",
    "X = df[\"weathersit\"].to_numpy().reshape(-1,1)\n",
    "# Create a linear regression model\n",
    "model = LinearRegression(fit_intercept=True).fit(X,y)\n",
    "print(\"Coefficient:\", model.coef_)"
   ]
  },
  {
   "cell_type": "markdown",
   "id": "3e09b7fc-0a6c-48d8-b235-8bd1d143322f",
   "metadata": {},
   "source": [
    "# Q1.3"
   ]
  },
  {
   "cell_type": "code",
   "execution_count": 8,
   "id": "0c4db68d-178b-4fef-b181-bbc31331a3af",
   "metadata": {
    "tags": []
   },
   "outputs": [
    {
     "name": "stdout",
     "output_type": "stream",
     "text": [
      "Difference in expected ride counts between clear and wet is:  [2114.57403433]\n"
     ]
    }
   ],
   "source": [
    "weather_1 = np.array([1]).reshape(-1,1)\n",
    "weather_3 = np.array([3]).reshape(-1,1)\n",
    "expected_cnt_1 = model.predict(weather_1)\n",
    "expected_cnt_3 = model.predict(weather_3)\n",
    "diff = expected_cnt_1 - expected_cnt_3\n",
    "print(\"Difference in expected ride counts between clear and wet is: \", diff)"
   ]
  },
  {
   "cell_type": "markdown",
   "id": "40dc3f4d-0955-4e97-9270-9327dd61079c",
   "metadata": {},
   "source": [
    "# Q1.4"
   ]
  },
  {
   "cell_type": "code",
   "execution_count": 9,
   "id": "78a90384-797c-46f2-8b42-a7ebd2a8a56f",
   "metadata": {
    "tags": []
   },
   "outputs": [
    {
     "name": "stdout",
     "output_type": "stream",
     "text": [
      "RSS: 2497246638.61\n",
      "R Sqaure: 0.0884\n",
      "Standard Deviation of Residual Errors: 1848.2982\n"
     ]
    }
   ],
   "source": [
    "from sklearn.metrics import mean_squared_error, r2_score\n",
    "\n",
    "y_pred = model.predict(X)\n",
    "rss = sum((y - y_pred) ** 2)\n",
    "r2 = r2_score(y, y_pred)\n",
    "\n",
    "sigma = ((rss / len(y)) ** (1/2))\n",
    "\n",
    "print(\"RSS:\", round(rss,4))\n",
    "print(\"R Sqaure:\", round(r2,4))\n",
    "print(\"Standard Deviation of Residual Errors:\", round(sigma,4))\n"
   ]
  },
  {
   "cell_type": "markdown",
   "id": "d85f4311-5be3-4b20-8f1c-28d01ea9cc30",
   "metadata": {},
   "source": [
    "# Q1.5"
   ]
  },
  {
   "cell_type": "code",
   "execution_count": 10,
   "id": "e9463539-b2c2-426d-b3dd-8522aa9e10f6",
   "metadata": {
    "tags": []
   },
   "outputs": [
    {
     "name": "stdout",
     "output_type": "stream",
     "text": [
      "Coefficient: [ -484.77409648  6371.0061281  -1881.83746743 -4210.83934555]\n",
      "A 10 degree increase in the temperature will result in a rise of expected ride count by  1355.533218743626\n"
     ]
    }
   ],
   "source": [
    "X = df[['weathersit','temp','hum','windspeed']]\n",
    "y = df['cnt']\n",
    "\n",
    "model = LinearRegression(fit_intercept=True).fit(X,y)\n",
    "tmax = 39\n",
    "tmin = -8\n",
    "print(\"Coefficient:\", model.coef_)\n",
    "print(\"A 10 degree increase in the temperature will result in a rise of expected ride count by \",model.coef_[1]*10/(tmax-tmin))"
   ]
  },
  {
   "cell_type": "markdown",
   "id": "f3ee7d9d-9ca4-4d67-bc31-78c3d308fe9f",
   "metadata": {},
   "source": [
    "# Q1.6"
   ]
  },
  {
   "cell_type": "code",
   "execution_count": 11,
   "id": "f817b79a-cc5b-4e98-aaee-214c45533dbb",
   "metadata": {
    "tags": []
   },
   "outputs": [
    {
     "name": "stdout",
     "output_type": "stream",
     "text": [
      "[  765.35238965 -1360.01465425 -2686.47892364  5346.67706166\n",
      "   315.90526836   -53.59821324   603.44166735]\n",
      "When the weathersit is 1, a 10 degree increase in the temperature will result in a rise of expected ride count by  1300.4318\n",
      "When the weathersit is 2, a 10 degree increase in the temperature will result in a rise of expected ride count by  1463.2727\n",
      "When the weathersit is 3, a 10 degree increase in the temperature will result in a rise of expected ride count by  1626.1137\n"
     ]
    }
   ],
   "source": [
    "ori_term = df[['temp','hum','windspeed']]\n",
    "\n",
    "interact_term = pd.DataFrame()\n",
    "\n",
    "for col in ori_term.columns:\n",
    "    interact_term['weathersit*{}'.format(col)] =ori_term[col] * df['weathersit']\n",
    "    \n",
    "X = pd.concat([interact_term,ori_term,df['weathersit']],axis = 1)\n",
    "y = df['cnt']\n",
    "tmax = 39\n",
    "tmin = -8\n",
    "\n",
    "model = LinearRegression(fit_intercept=True).fit(X,y)\n",
    "\n",
    "w1_coef = (model.coef_[0]+model.coef_[3])/(tmax-tmin)*10\n",
    "w2_coef = (2*model.coef_[0]+model.coef_[3])/(tmax-tmin)*10\n",
    "w3_coef = (3*model.coef_[0]+model.coef_[3])/(tmax-tmin)*10\n",
    "\n",
    "\n",
    "print(model.coef_)\n",
    "print(\"When the weathersit is 1, a 10 degree increase in the temperature will result in a rise of expected ride count by \",round(w1_coef,4))\n",
    "print(\"When the weathersit is 2, a 10 degree increase in the temperature will result in a rise of expected ride count by \",round(w2_coef,4))\n",
    "print(\"When the weathersit is 3, a 10 degree increase in the temperature will result in a rise of expected ride count by \",round(w3_coef,4))\n"
   ]
  },
  {
   "cell_type": "markdown",
   "id": "b9a7d3a4-2143-4a4f-8543-24bfe47a0c43",
   "metadata": {},
   "source": [
    "# Q1.7"
   ]
  },
  {
   "cell_type": "code",
   "execution_count": 12,
   "id": "fa25528f-2a89-4c38-8a04-43662694b23f",
   "metadata": {},
   "outputs": [
    {
     "name": "stdout",
     "output_type": "stream",
     "text": [
      "The mean of accuracies is:  0.8262044543844935\n"
     ]
    }
   ],
   "source": [
    "from sklearn.linear_model import LogisticRegression\n",
    "from sklearn.model_selection import cross_val_score, StratifiedKFold\n",
    "\n",
    "X = df[['weathersit','temp','hum','windspeed']]\n",
    "y = df['cnt'].apply(lambda x: 1 if x > 4000 else 0)\n",
    "model = LogisticRegression()\n",
    "stratified_kfold = StratifiedKFold(n_splits=5, shuffle=True, random_state=42)\n",
    "accuracies = cross_val_score(model, X, y, cv=stratified_kfold, scoring='accuracy')\n",
    "print(\"The mean of accuracies is: \",accuracies.mean())"
   ]
  },
  {
   "cell_type": "markdown",
   "id": "47fa93ad-91d5-4422-adea-89d1f88980e0",
   "metadata": {},
   "source": [
    "# Q1.8"
   ]
  },
  {
   "cell_type": "code",
   "execution_count": 13,
   "id": "9b649a87-4f80-4c87-aa3b-03c128f5b5b4",
   "metadata": {
    "tags": []
   },
   "outputs": [
    {
     "name": "stdout",
     "output_type": "stream",
     "text": [
      "For threshold 1000, the mean of accuracies is: 0.97 and the mean of F1 scores is: 0.99 \n",
      "For threshold 2000, the mean of accuracies is: 0.88 and the mean of F1 scores is: 0.94 \n",
      "For threshold 3000, the mean of accuracies is: 0.86 and the mean of F1 scores is: 0.91 \n",
      "For threshold 4000, the mean of accuracies is: 0.83 and the mean of F1 scores is: 0.86 \n",
      "For threshold 5000, the mean of accuracies is: 0.71 and the mean of F1 scores is: 0.58 \n",
      "For threshold 6000, the mean of accuracies is: 0.73 and the mean of F1 scores is: 0.18 \n",
      "For threshold 7000, the mean of accuracies is: 0.87 and the mean of F1 scores is: 0.0 \n",
      "For threshold 8000, the mean of accuracies is: 0.98 and the mean of F1 scores is: 0.0 \n"
     ]
    }
   ],
   "source": [
    "thresholds = [1000+1000*i for i in range(0,8)]\n",
    "for threshold in thresholds:\n",
    "    X = df[['weathersit','temp','hum','windspeed']]\n",
    "    y = df['cnt'].apply(lambda x: 1 if x > threshold else 0)\n",
    "    model = LogisticRegression()\n",
    "    stratified_kfold = StratifiedKFold(n_splits=5, shuffle=True, random_state=42)\n",
    "    accuracies = cross_val_score(model, X, y, cv=stratified_kfold, scoring='accuracy')\n",
    "    f1_score = cross_val_score(model, X, y, cv=stratified_kfold, scoring='f1')\n",
    "    print(\"For threshold {}, the mean of accuracies is: {} and the mean of F1 scores is: {} \".format(threshold,round(accuracies.mean(),2),round(f1_score.mean(),2)))"
   ]
  },
  {
   "cell_type": "markdown",
   "id": "1f47363a-f736-45f6-9d93-251d4adb6697",
   "metadata": {},
   "source": [
    "# Q1.8 Rationale\n",
    "F1 score captures the balance between precision and recall, it is suitable for imbalanced dataset. In contrast, accuracies can be misleading when facing an imbalanced dataset. Therefore, I priotized optimizing F1 score by feeding different thresholds to find the model. The result showes that 1000 is the optimal threshold as it generate the largest F1 score overall. The mean of accuracies has also been improved by 14 percentage points."
   ]
  },
  {
   "cell_type": "markdown",
   "id": "3ea51a2b-a4c6-4678-b490-2baa7f6b0f00",
   "metadata": {},
   "source": [
    "# Q2.1\n",
    "Flexbile methods are expected to perform better. Given a large sample size, a flexible method is more likelty to fit the train set well without overfitting. Given a small number of predictors, an inflexible method is more likely underfit the train set."
   ]
  },
  {
   "cell_type": "markdown",
   "id": "ef9f588c-9298-434b-bc4d-e3f6f03923d4",
   "metadata": {},
   "source": [
    "# Q2.2"
   ]
  },
  {
   "cell_type": "markdown",
   "id": "1cea2cec-7c05-4238-958c-c6fa8ac2bbe2",
   "metadata": {},
   "source": [
    "Inflexible methods are expected to perform better. Given a small sample size and a large number of predictors, a flexible method is likely to capture more error and then cause overfitting. An inflexible method has a lower capability to capture the error term which help prevent overfitting in this case."
   ]
  },
  {
   "cell_type": "markdown",
   "id": "b6da6da4-e0f9-4c86-b539-e84facdcb7f0",
   "metadata": {},
   "source": [
    "# Q2.3\n",
    "In case there are relationships, a flexibile method is more likely to perform better because it has more linient condition and higher capability to discover better. An inflexible method tends to capture simple relationship, like a linear one. Also, some inflexible methods have strict assumptions in order to perform well, like multicollinearity assumption in a regression model."
   ]
  },
  {
   "cell_type": "markdown",
   "id": "abe8dc33-1158-4b68-b807-0b684b43f3ce",
   "metadata": {},
   "source": [
    "# Q2.4\n",
    "The high variance of the error term suggests that there is a strong impact from noise. An inflexible method is more likely to perform well in such scenarios, as a more flexible one may capture more information from the error term, which might cause overfitting. "
   ]
  },
  {
   "cell_type": "markdown",
   "id": "16b6e0a9-78c7-432b-9ee4-caba96ef1532",
   "metadata": {},
   "source": [
    "# Q3\n",
    "\n",
    "An example for inference is to fit a regression model to explore the relationship between the GDP growth rate and the mean length of education. The response variable is the GDP growth rate per region and the predictor variables will include the mean length of education and other relevant variables. It is an inference task because a researcher cares about wether the education can drive economic growth. By clarifying the effect of education on the economy, policy makers and stakeholders can make an informed decisions about investing in educaiton. In this case, the accuracy is not that important as the main goal is to explain the driving factor.\n",
    "\n",
    "An example for prediction is to fit a regression model to predict the stock price movement. The response variable is the return of a certain stock. The predictor variables can include a return of that stock from the previous period(t-1) or return rate of stocks in the same industry(t-1 period), macroeconomic indicators and so on. It is a prediction task becasue investors cares about whether they can correctly predict the future in order to profit from this prediction. A minor difference in accuracy can make a difference when realizing gain or loss."
   ]
  },
  {
   "cell_type": "markdown",
   "id": "964d2174-8234-4159-8277-4330796d7575",
   "metadata": {},
   "source": [
    "# Q4.1\n",
    "$$\n",
    "\\text{plug in x } = \\bar{x}\n",
    "\\newline \\because \\hat{\\beta_0} = \\bar{y} - \\hat{\\beta_1} \\bar{x}\n",
    "\\newline y = \\hat{\\beta_0} + \\hat{\\beta_1}x\n",
    "\\newline \\therefore y = (\\bar{y} - \\hat{\\beta_1} \\bar{x}) + \\hat{\\beta_1}\\bar{x} = \\bar{y}\n",
    "\\newline \\text{Therefore, the OLS line always pass } (\\bar{x},\\bar{y})\n",
    "$$\n",
    "\n"
   ]
  },
  {
   "cell_type": "markdown",
   "id": "f6e9c7ce-d436-458a-8ae5-c33dd6c201fd",
   "metadata": {},
   "source": [
    "# Q4.2\n",
    "$$\n",
    "\\newline \\text{The correlation between x and y is:}\n",
    "\\newline \\because \\text{Cor}(x, y) = \\frac{\\sum (x_i - \\bar{x})(y_i - \\bar{y})}{\\sqrt{\\sum (x_i - \\bar{x})^2 \\sum (y_i - \\bar{y})^2}} \n",
    "\\newline \\therefore \\text{Cor}^2(x, y) = \\frac{(\\sum (x_i - \\bar{x})(y_i - \\bar{y}))^2}{\\sum (x_i - \\bar{x})^2 \\sum (y_i - \\bar{y})^2} = R^2\n",
    "\\newline \\text{This is the} R^2 \\text{in simple linear regression.}\n",
    "$$"
   ]
  },
  {
   "cell_type": "markdown",
   "id": "cceb1a17-66a2-45bf-9ac0-2b6b600ccbad",
   "metadata": {},
   "source": [
    "# Q4.3\n",
    "The logistic function representation is:\n",
    "\n",
    "$$\\newline \\because p(x) = \\frac{e^{\\beta_0 + \\beta_1x}}{1 + e^{\\beta_0 + \\beta_1x}}\n",
    "\\newline \\therefore p(x)(1+e^{\\beta_0 + \\beta_1x}) = e^{\\beta_0 + \\beta_1x}\n",
    "\\newline \\frac{p(x)}{(1-p(x))} = e^{\\beta_0 + \\beta_1x}\n",
    "\\newline \\therefore \\ln{(\\frac{p(x)}{(1-p(x))})} =  \\beta_0 + \\beta_1x\n",
    "$$\n",
    "This is the logit representation. It is equivalent to the logistic function representation."
   ]
  },
  {
   "cell_type": "markdown",
   "id": "bb9bbd1f-1ce2-4fc9-afb3-ef049e7e9e39",
   "metadata": {},
   "source": [
    "# Q5.1"
   ]
  },
  {
   "cell_type": "code",
   "execution_count": 14,
   "id": "e042b721-b18c-4b24-a58b-652b69e77737",
   "metadata": {
    "tags": []
   },
   "outputs": [
    {
     "name": "stdout",
     "output_type": "stream",
     "text": [
      "The probability of promotion for that employee is:  0.3543436937742045\n"
     ]
    }
   ],
   "source": [
    "import math\n",
    "beta0, beta1, beta2 = -4,0.03,0.5\n",
    "x1,x2 = 30,5\n",
    "linear_part = beta0+ beta1*x1 + beta2*x2\n",
    "prob = (math.e**(linear_part))/(1+math.e**(linear_part))\n",
    "print(\"The probability of promotion for that employee is: \", prob)"
   ]
  },
  {
   "cell_type": "markdown",
   "id": "4688a2f2-f77e-471a-af1b-8253db544aed",
   "metadata": {},
   "source": [
    "# Q5.2"
   ]
  },
  {
   "cell_type": "code",
   "execution_count": 15,
   "id": "cef1c82d-af4f-4a61-89d0-2c80961e299f",
   "metadata": {
    "tags": []
   },
   "outputs": [
    {
     "name": "stdout",
     "output_type": "stream",
     "text": [
      "The employee shoud undertake 50.00 hours of professional development to have a 50% chance of promotion\n"
     ]
    }
   ],
   "source": [
    "beta0, beta1, beta2 = -4,0.03,0.5\n",
    "x2 = 5\n",
    "prob = 0.5\n",
    "x1 = (math.log(prob/(1-prob)) - beta0 - beta2*x2)/beta1\n",
    "print(\"The employee shoud undertake {:.2f} hours of professional development to have a 50% chance of promotion\".format(x1))"
   ]
  }
 ],
 "metadata": {
  "kernelspec": {
   "display_name": "classenv",
   "language": "python",
   "name": "classenv"
  },
  "language_info": {
   "codemirror_mode": {
    "name": "ipython",
    "version": 3
   },
   "file_extension": ".py",
   "mimetype": "text/x-python",
   "name": "python",
   "nbconvert_exporter": "python",
   "pygments_lexer": "ipython3",
   "version": "3.11.5"
  }
 },
 "nbformat": 4,
 "nbformat_minor": 5
}
